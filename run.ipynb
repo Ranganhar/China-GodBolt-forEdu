{
 "cells": [
  {
   "cell_type": "code",
   "execution_count": 42,
   "metadata": {},
   "outputs": [
    {
     "name": "stdout",
     "output_type": "stream",
     "text": [
      " * Serving Flask app '__main__'\n",
      " * Debug mode: off\n"
     ]
    },
    {
     "name": "stderr",
     "output_type": "stream",
     "text": [
      "\u001b[31m\u001b[1mWARNING: This is a development server. Do not use it in a production deployment. Use a production WSGI server instead.\u001b[0m\n",
      " * Running on http://127.0.0.1:5000\n",
      "\u001b[33mPress CTRL+C to quit\u001b[0m\n",
      "127.0.0.1 - - [13/Apr/2024 15:34:49] \"POST /receive_string HTTP/1.1\" 200 -\n"
     ]
    }
   ],
   "source": [
    "from flask import Flask, request\n",
    "import os\n",
    "import sys\n",
    "import shutil\n",
    "import urllib.parse\n",
    "import subprocess\n",
    "app = Flask(__name__)\n",
    "#可执行文件绝对地址\n",
    "compiler_path=sys.path[0]+\"/build/SYSY-compiler\"\n",
    "rev_root=sys.path[0]+\"/rev\"\n",
    "compiler_args=[compiler_path]\n",
    "result_path=sys.path[0]+\"/rev/source_code.sy.ll\"\n",
    "\n",
    "\n",
    "@app.route('/receive_string', methods=['POST'])\n",
    "def receive_string():\n",
    "    data = request.get_data().decode('utf-8')\n",
    "    if not data:\n",
    "        return \"No data received.\", 400\n",
    "    parsed_data = urllib.parse.parse_qs(data)\n",
    "    #shutil.rmtree(parsed_data)\n",
    "    os.makedirs(rev_root,exist_ok=True)\n",
    "    for key, values in parsed_data.items():\n",
    "        if(key==\"source_code\"):\n",
    "            file_path=rev_root+\"/source_code.sy\"    \n",
    "            with open(file_path, 'w') as f:\n",
    "                for value in values:\n",
    "                    f.write(value+'\\n')\n",
    "            compiler_args.append(file_path)\n",
    "        if(key==\"params\"):\n",
    "            compiler_args.extend(values)\n",
    "    #开始进行处理\n",
    "    subprocess.run(compiler_args,capture_output=True)\n",
    "    return \"Data received and saved successfully.\", 200\n",
    "    \n",
    "if __name__ == '__main__':\n",
    "    app.run()\n"
   ]
  }
 ],
 "metadata": {
  "kernelspec": {
   "display_name": "base",
   "language": "python",
   "name": "python3"
  },
  "language_info": {
   "codemirror_mode": {
    "name": "ipython",
    "version": 3
   },
   "file_extension": ".py",
   "mimetype": "text/x-python",
   "name": "python",
   "nbconvert_exporter": "python",
   "pygments_lexer": "ipython3",
   "version": "3.11.5"
  }
 },
 "nbformat": 4,
 "nbformat_minor": 2
}
