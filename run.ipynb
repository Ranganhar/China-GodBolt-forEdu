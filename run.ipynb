{
 "cells": [
  {
   "cell_type": "code",
   "execution_count": 5,
   "metadata": {},
   "outputs": [
    {
     "name": "stdout",
     "output_type": "stream",
     "text": [
      " * Serving Flask app '__main__'\n",
      " * Debug mode: off\n"
     ]
    },
    {
     "name": "stderr",
     "output_type": "stream",
     "text": [
      "\u001b[31m\u001b[1mWARNING: This is a development server. Do not use it in a production deployment. Use a production WSGI server instead.\u001b[0m\n",
      " * Running on http://127.0.0.1:5000\n",
      "\u001b[33mPress CTRL+C to quit\u001b[0m\n"
     ]
    },
    {
     "name": "stderr",
     "output_type": "stream",
     "text": [
      "127.0.0.1 - - [14/Apr/2024 15:24:19] \"POST /receive_string HTTP/1.1\" 200 -\n"
     ]
    }
   ],
   "source": [
    "from flask import Flask, request\n",
    "import os\n",
    "import sys\n",
    "import shutil\n",
    "import urllib.parse\n",
    "import subprocess\n",
    "app = Flask(__name__)\n",
    "#可执行文件绝对地址\n",
    "compiler_path=sys.path[0]+\"/build/SYSY-compiler\"\n",
    "rev_root=sys.path[0]+\"/rev\"\n",
    "compiler_args=[compiler_path]\n",
    "return_src={}\n",
    "\n",
    "@app.route('/receive_string', methods=['POST'])\n",
    "def receive_string():\n",
    "    data = request.get_data().decode('utf-8')\n",
    "    if not data:\n",
    "        return \"No data received.\", 400\n",
    "    parsed_data = urllib.parse.parse_qs(data)\n",
    "    #shutil.rmtree(parsed_data)\n",
    "    file_path=rev_root+\"/source_code.sy\"    \n",
    "    os.makedirs(rev_root,exist_ok=True)\n",
    "    for key, values in parsed_data.items():\n",
    "        #处理输入的代码+命令\n",
    "        if(key==\"source_code\"):\n",
    "            with open(file_path, 'w') as f:\n",
    "                for value in values:\n",
    "                    f.write(value+'\\n')\n",
    "            compiler_args.append(file_path)\n",
    "        if(key==\"params\"):\n",
    "            compiler_args.extend(values)\n",
    "    #开始进行处理\n",
    "    result_1=subprocess.run(compiler_args,capture_output=True,text=True)\n",
    "    with open(\"/mnt/e/China-GodBolt-forEdu/rev/source.ll\", 'w') as f:\n",
    "        f.write(result_1.stdout)\n",
    "    with open(\"/mnt/e/China-GodBolt-forEdu/rev/source.ll\", 'r') as f:\n",
    "        return_src[\"source_code\"] = f.read()\n",
    "    #对每个pipline都进行一次处理\n",
    "    result_2=subprocess.run([compiler_path,file_path,'--mem2reg'],capture_output=True,text=True)\n",
    "    with open(\"/mnt/e/China-GodBolt-forEdu/rev/mem2reg.ll\", 'w') as f:\n",
    "        f.write(result_2.stdout)\n",
    "    with open(\"/mnt/e/China-GodBolt-forEdu/rev/mem2reg.ll\", 'r') as f:\n",
    "        return_src[\"opt_pipline_mem2reg\"]=f.read()\n",
    "    result_3=subprocess.run([compiler_path,file_path,'--dce'],capture_output=True,text=True)\n",
    "    with open(\"/mnt/e/China-GodBolt-forEdu/rev/dce.ll\", 'w') as f:\n",
    "        f.write(result_3.stdout)\n",
    "    with open(\"/mnt/e/China-GodBolt-forEdu/rev/dce.ll\", 'r') as f:\n",
    "        return_src[\"opt_pipline_dce\"]=f.read()    \n",
    "    \n",
    "    for folder_name in os.listdir(rev_root):\n",
    "        folder_path = os.path.join(rev_root, folder_name)\n",
    "        if os.path.isdir(folder_path):\n",
    "            src=[]\n",
    "            for file_name in os.listdir(folder_path):\n",
    "                file_path = os.path.join(folder_path, file_name)\n",
    "                if os.path.isfile(file_path):\n",
    "                    with open(file_path, 'r') as f:\n",
    "                        src.append(f.read())\n",
    "            return_src[folder_name] = src\n",
    "        #folder_contents[folder_name] = file_contents\n",
    "    return return_src\n",
    "    \n",
    "if __name__ == '__main__':\n",
    "    app.run()\n"
   ]
  }
 ],
 "metadata": {
  "kernelspec": {
   "display_name": "base",
   "language": "python",
   "name": "python3"
  },
  "language_info": {
   "codemirror_mode": {
    "name": "ipython",
    "version": 3
   },
   "file_extension": ".py",
   "mimetype": "text/x-python",
   "name": "python",
   "nbconvert_exporter": "python",
   "pygments_lexer": "ipython3",
   "version": "3.11.5"
  }
 },
 "nbformat": 4,
 "nbformat_minor": 2
}
